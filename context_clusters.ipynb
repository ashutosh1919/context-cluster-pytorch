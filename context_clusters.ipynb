{
 "cells": [
  {
   "cell_type": "markdown",
   "id": "e2b0132e-23f2-439b-8855-f47ffcc461ec",
   "metadata": {},
   "source": [
    "# Context-Cluster with Gradient\n",
    "\n",
    "We can use Context-Cluster on a wide variety of single GPU and Multi GPU machines with effectively no time spent waiting for the model files to download.\n",
    "\n",
    "To run Context-Cluster in this notebook, run the cell below to install the required dependencies.\n"
   ]
  },
  {
   "cell_type": "code",
   "execution_count": null,
   "id": "e16cb8c1-918a-4560-bb87-f97cb9c5da48",
   "metadata": {},
   "outputs": [],
   "source": [
    "!bash installations.sh"
   ]
  },
  {
   "cell_type": "markdown",
   "id": "f95c1165-15cb-4d10-9861-07e33e6723c3",
   "metadata": {},
   "source": [
    "## Get data & start training (Optional)\n",
    "\n",
    "If you want to train the models yourself, you can run the cell below.\n",
    "\n",
    "This will take a long time to run, and requires downloading large datasets (147G). If you are training the model, then you can change hyperparameters of the model in `args.yaml` file."
   ]
  },
  {
   "cell_type": "code",
   "execution_count": null,
   "id": "5ea37380-4e3a-4884-bded-9f9a5d60e692",
   "metadata": {},
   "outputs": [],
   "source": [
    "!bash train.sh"
   ]
  },
  {
   "cell_type": "markdown",
   "id": "da44d0b3-b0ef-4c0c-b88e-b6eac92e1f06",
   "metadata": {},
   "source": [
    "## Get pre-trained model checkpoints\n",
    "\n",
    "You can download checkpoints for already trained models from the [original model repository](https://github.com/ma-xu/Context-Cluster). Note that we are only downloading checkpoints corresponding to model variant `coc_tiny_plain` since other available checkpoints are not compatible with latest version of code. But the authors will publish the latest checkpoints so we would suggest you to look at the repository and change `checkpoints/fetch_pretrained_checkpoints.sh` file to also download other checkpoints."
   ]
  },
  {
   "cell_type": "code",
   "execution_count": null,
   "id": "d1d3dfcf-8ec8-45fa-a25b-cfd395aea15e",
   "metadata": {},
   "outputs": [],
   "source": [
    "!bash checkpoints/fetch_pretrained_checkpoints.sh"
   ]
  },
  {
   "cell_type": "markdown",
   "id": "7202b3c3-a457-420a-93d8-609b1af98019",
   "metadata": {},
   "source": [
    "## Launch Gradio App\n",
    "\n",
    "We have constructed a Gradio application where you can upload images, change model parameteres and get cluster visualization of the models for which you have downloaded checkpoints.\n",
    "\n",
    "You should be able to run the model even on single `8G` GPU. Run the below code and try the model yourself."
   ]
  },
  {
   "cell_type": "code",
   "execution_count": null,
   "id": "af2d7ffc-8e48-4534-9670-54c9776353d3",
   "metadata": {},
   "outputs": [],
   "source": [
    "!gradio app.py"
   ]
  }
 ],
 "metadata": {
  "kernelspec": {
   "display_name": "Python 3 (ipykernel)",
   "language": "python",
   "name": "python3"
  },
  "language_info": {
   "codemirror_mode": {
    "name": "ipython",
    "version": 3
   },
   "file_extension": ".py",
   "mimetype": "text/x-python",
   "name": "python",
   "nbconvert_exporter": "python",
   "pygments_lexer": "ipython3",
   "version": "3.9.16"
  }
 },
 "nbformat": 4,
 "nbformat_minor": 5
}
